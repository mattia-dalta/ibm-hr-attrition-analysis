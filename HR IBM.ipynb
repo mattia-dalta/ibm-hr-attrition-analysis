{
 "cells": [
  {
   "cell_type": "code",
   "execution_count": null,
   "id": "a2bc23c9-59fe-4831-baf5-bbecd862c3c5",
   "metadata": {},
   "outputs": [],
   "source": [
    "pip install kaggle"
   ]
  },
  {
   "cell_type": "code",
   "execution_count": 1,
   "id": "4edf1645-3067-425b-b027-e58ea5d1ca82",
   "metadata": {},
   "outputs": [
    {
     "ename": "ModuleNotFoundError",
     "evalue": "No module named 'kagglehub'",
     "output_type": "error",
     "traceback": [
      "\u001b[1;31m---------------------------------------------------------------------------\u001b[0m",
      "\u001b[1;31mModuleNotFoundError\u001b[0m                       Traceback (most recent call last)",
      "Cell \u001b[1;32mIn[1], line 1\u001b[0m\n\u001b[1;32m----> 1\u001b[0m \u001b[38;5;28;01mimport\u001b[39;00m \u001b[38;5;21;01mkagglehub\u001b[39;00m\n\u001b[0;32m      4\u001b[0m path \u001b[38;5;241m=\u001b[39m kagglehub\u001b[38;5;241m.\u001b[39mdataset_download(\u001b[38;5;124m\"\u001b[39m\u001b[38;5;124mpavansubhasht/ibm-hr-analytics-attrition-dataset\u001b[39m\u001b[38;5;124m\"\u001b[39m)\n\u001b[0;32m      6\u001b[0m \u001b[38;5;28mprint\u001b[39m(\u001b[38;5;124m\"\u001b[39m\u001b[38;5;124mPath to dataset files:\u001b[39m\u001b[38;5;124m\"\u001b[39m, path)\n",
      "\u001b[1;31mModuleNotFoundError\u001b[0m: No module named 'kagglehub'"
     ]
    }
   ],
   "source": [
    "import kagglehub\n",
    "\n",
    "\n",
    "path = kagglehub.dataset_download(\"pavansubhasht/ibm-hr-analytics-attrition-dataset\")\n",
    "\n",
    "print(\"Path to dataset files:\", path)"
   ]
  },
  {
   "cell_type": "code",
   "execution_count": 3,
   "id": "16840d02-0c89-47f6-a5d5-059469a1c651",
   "metadata": {},
   "outputs": [],
   "source": [
    "import os\n",
    "\n",
    "os.environ['KAGGLE_CONFIG_DIR'] = os.getcwd()"
   ]
  },
  {
   "cell_type": "code",
   "execution_count": 5,
   "id": "5a4039cb-4eee-470b-99ec-e9b70bfc022e",
   "metadata": {},
   "outputs": [
    {
     "name": "stderr",
     "output_type": "stream",
     "text": [
      "Traceback (most recent call last):\n",
      "  File \"<frozen runpy>\", line 198, in _run_module_as_main\n",
      "  File \"<frozen runpy>\", line 88, in _run_code\n",
      "  File \"C:\\Users\\matti\\anaconda3\\Scripts\\kaggle.exe\\__main__.py\", line 7, in <module>\n",
      "  File \"C:\\Users\\matti\\anaconda3\\Lib\\site-packages\\kaggle\\cli.py\", line 68, in main\n",
      "    out = args.func(**command_args)\n",
      "          ^^^^^^^^^^^^^^^^^^^^^^^^^\n",
      "  File \"C:\\Users\\matti\\anaconda3\\Lib\\site-packages\\kaggle\\api\\kaggle_api_extended.py\", line 1741, in dataset_download_cli\n",
      "    with self.build_kaggle_client() as kaggle:\n",
      "         ^^^^^^^^^^^^^^^^^^^^^^^^^^\n",
      "  File \"C:\\Users\\matti\\anaconda3\\Lib\\site-packages\\kaggle\\api\\kaggle_api_extended.py\", line 688, in build_kaggle_client\n",
      "    username=self.config_values['username'],\n",
      "             ~~~~~~~~~~~~~~~~~~^^^^^^^^^^^^\n",
      "KeyError: 'username'\n"
     ]
    }
   ],
   "source": [
    "!kaggle datasets download -d pavanraj159/hr-analytics"
   ]
  },
  {
   "cell_type": "code",
   "execution_count": 7,
   "id": "93e293e3-28f0-44f9-8aca-089cdf18ac03",
   "metadata": {},
   "outputs": [],
   "source": [
    "import os\n",
    "os.environ['KAGGLE_CONFIG_DIR'] = os.getcwd()"
   ]
  },
  {
   "cell_type": "code",
   "execution_count": 9,
   "id": "47ec2a70-1ceb-4c57-9279-b9bbc47e1579",
   "metadata": {},
   "outputs": [
    {
     "ename": "ModuleNotFoundError",
     "evalue": "No module named 'kagglehub'",
     "output_type": "error",
     "traceback": [
      "\u001b[1;31m---------------------------------------------------------------------------\u001b[0m",
      "\u001b[1;31mModuleNotFoundError\u001b[0m                       Traceback (most recent call last)",
      "Cell \u001b[1;32mIn[9], line 1\u001b[0m\n\u001b[1;32m----> 1\u001b[0m \u001b[38;5;28;01mimport\u001b[39;00m \u001b[38;5;21;01mkagglehub\u001b[39;00m\n\u001b[0;32m      3\u001b[0m \u001b[38;5;66;03m# Download latest version\u001b[39;00m\n\u001b[0;32m      4\u001b[0m path \u001b[38;5;241m=\u001b[39m kagglehub\u001b[38;5;241m.\u001b[39mdataset_download(\u001b[38;5;124m\"\u001b[39m\u001b[38;5;124mpavansubhasht/ibm-hr-analytics-attrition-dataset\u001b[39m\u001b[38;5;124m\"\u001b[39m)\n",
      "\u001b[1;31mModuleNotFoundError\u001b[0m: No module named 'kagglehub'"
     ]
    }
   ],
   "source": [
    "import kagglehub\n",
    "\n",
    "# Download latest version\n",
    "path = kagglehub.dataset_download(\"pavansubhasht/ibm-hr-analytics-attrition-dataset\")\n",
    "\n",
    "print(\"Path to dataset files:\", path)"
   ]
  },
  {
   "cell_type": "code",
   "execution_count": 11,
   "id": "466b24c5-afe5-4fcb-a199-2aa92fe13ee6",
   "metadata": {},
   "outputs": [
    {
     "name": "stderr",
     "output_type": "stream",
     "text": [
      "Traceback (most recent call last):\n",
      "  File \"<frozen runpy>\", line 198, in _run_module_as_main\n",
      "  File \"<frozen runpy>\", line 88, in _run_code\n",
      "  File \"C:\\Users\\matti\\anaconda3\\Scripts\\kaggle.exe\\__main__.py\", line 7, in <module>\n",
      "  File \"C:\\Users\\matti\\anaconda3\\Lib\\site-packages\\kaggle\\cli.py\", line 68, in main\n",
      "    out = args.func(**command_args)\n",
      "          ^^^^^^^^^^^^^^^^^^^^^^^^^\n",
      "  File \"C:\\Users\\matti\\anaconda3\\Lib\\site-packages\\kaggle\\api\\kaggle_api_extended.py\", line 1741, in dataset_download_cli\n",
      "    with self.build_kaggle_client() as kaggle:\n",
      "         ^^^^^^^^^^^^^^^^^^^^^^^^^^\n",
      "  File \"C:\\Users\\matti\\anaconda3\\Lib\\site-packages\\kaggle\\api\\kaggle_api_extended.py\", line 688, in build_kaggle_client\n",
      "    username=self.config_values['username'],\n",
      "             ~~~~~~~~~~~~~~~~~~^^^^^^^^^^^^\n",
      "KeyError: 'username'\n"
     ]
    }
   ],
   "source": [
    "!kaggle datasets download -d pavansubhasht/ibm-hr-analytics-attrition-dataset"
   ]
  },
  {
   "cell_type": "code",
   "execution_count": 13,
   "id": "323f334d-9cdf-46fc-874d-40c91240600a",
   "metadata": {},
   "outputs": [
    {
     "name": "stdout",
     "output_type": "stream",
     "text": [
      "📁 Il notebook si trova in: C:\\Users\\matti\\OneDrive\\Desktop\\materiale colloqui\\Profession AI\\Corso in Data Analytics\\Fondamenti di Machine Learning\\machine-learning-fondamenti\n"
     ]
    }
   ],
   "source": [
    "import os\n",
    "\n",
    "current_dir = os.getcwd()\n",
    "print(\"📁 Il notebook si trova in:\", current_dir)"
   ]
  },
  {
   "cell_type": "code",
   "execution_count": null,
   "id": "701982f9-cf5a-4a7f-a5ae-0069377c34bc",
   "metadata": {},
   "outputs": [],
   "source": []
  }
 ],
 "metadata": {
  "kernelspec": {
   "display_name": "Python 3 (ipykernel)",
   "language": "python",
   "name": "python3"
  },
  "language_info": {
   "codemirror_mode": {
    "name": "ipython",
    "version": 3
   },
   "file_extension": ".py",
   "mimetype": "text/x-python",
   "name": "python",
   "nbconvert_exporter": "python",
   "pygments_lexer": "ipython3",
   "version": "3.12.4"
  }
 },
 "nbformat": 4,
 "nbformat_minor": 5
}
